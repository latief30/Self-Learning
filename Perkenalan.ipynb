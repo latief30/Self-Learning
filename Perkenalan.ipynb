{
  "nbformat": 4,
  "nbformat_minor": 0,
  "metadata": {
    "colab": {
      "provenance": [],
      "authorship_tag": "ABX9TyOwJcvtg/bZR/BlhAF6dgTv",
      "include_colab_link": true
    },
    "kernelspec": {
      "name": "python3",
      "display_name": "Python 3"
    },
    "language_info": {
      "name": "python"
    }
  },
  "cells": [
    {
      "cell_type": "markdown",
      "metadata": {
        "id": "view-in-github",
        "colab_type": "text"
      },
      "source": [
        "<a href=\"https://colab.research.google.com/github/latief30/Self-Learning/blob/main/Perkenalan.ipynb\" target=\"_parent\"><img src=\"https://colab.research.google.com/assets/colab-badge.svg\" alt=\"Open In Colab\"/></a>"
      ]
    },
    {
      "cell_type": "code",
      "execution_count": 5,
      "metadata": {
        "colab": {
          "base_uri": "https://localhost:8080/"
        },
        "id": "hreJN9PcUFQK",
        "outputId": "dec0de8f-3313-4feb-b968-ab0bb4ed9d0e"
      },
      "outputs": [
        {
          "output_type": "stream",
          "name": "stdout",
          "text": [
            "Seseorang yang mencari tahu tentang AI\n",
            "\n",
            "Nama\t\t: Abdullah Latif\n",
            "Jenis Kelamin\t: Laki-Laki\n",
            "Alamat\t\t: Wedung Demak\n",
            "Hobi\t\t: Membaca\n",
            "Pendidikan\t: S-1 Ekonomi Syariah\n",
            "Pekerjaan\t: Mahasiswa\n",
            "Media Sosial\t: -\n",
            "Quotes\t: \n",
            "\n",
            "If You Can't Hold, You Won't Be Rich\n",
            "\n",
            "Pengalaman\t : \n",
            "\t-\n"
          ]
        }
      ],
      "source": [
        "print(\"Seseorang yang mencari tahu tentang AI\\n\")\n",
        "\n",
        "input(\"Nama\\t\\t: \")\n",
        "input(\"Jenis Kelamin\\t: \")\n",
        "input(\"Alamat\\t\\t: \")\n",
        "input(\"Hobi\\t\\t: \")\n",
        "input(\"Pendidikan\\t: \")\n",
        "input(\"Pekerjaan\\t: \")\n",
        "input(\"Media Sosial\\t: \")\n",
        "input(\"Quotes\\t: \\n\\n\")\n",
        "print()\n",
        "print(\"Pengalaman\\t : \")\n",
        "print(\"\\t-\")"
      ]
    }
  ]
}