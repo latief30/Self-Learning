{
  "nbformat": 4,
  "nbformat_minor": 0,
  "metadata": {
    "colab": {
      "name": "Self Learning 29 Aug 2022.ipynb",
      "provenance": [],
      "authorship_tag": "ABX9TyOFeGtf1/rgQtyZkIAzFAIR",
      "include_colab_link": true
    },
    "kernelspec": {
      "name": "python3",
      "display_name": "Python 3"
    },
    "language_info": {
      "name": "python"
    }
  },
  "cells": [
    {
      "cell_type": "markdown",
      "metadata": {
        "id": "view-in-github",
        "colab_type": "text"
      },
      "source": [
        "<a href=\"https://colab.research.google.com/github/latief30/latief-Coin/blob/main/Self_Learning_29_Aug_2022.ipynb\" target=\"_parent\"><img src=\"https://colab.research.google.com/assets/colab-badge.svg\" alt=\"Open In Colab\"/></a>"
      ]
    },
    {
      "cell_type": "markdown",
      "source": [
        "a. PERSEGI"
      ],
      "metadata": {
        "id": "iPwMTKjknTb1"
      }
    },
    {
      "cell_type": "code",
      "execution_count": 8,
      "metadata": {
        "colab": {
          "base_uri": "https://localhost:8080/"
        },
        "id": "N8xEnBmUVI80",
        "outputId": "75ed4967-417a-4e8d-c958-6886bd353464"
      },
      "outputs": [
        {
          "output_type": "stream",
          "name": "stdout",
          "text": [
            "mencari luas persegi\n",
            "\n",
            "masukan sisi : 10\n",
            "masukan sisi : 1\n",
            "hasil :  10\n"
          ]
        }
      ],
      "source": [
        "#mencari luas persegi\n",
        "#rumus s x s\n",
        "print(\"mencari luas persegi\\n\")\n",
        "\n",
        "sisi1 = int(input(\"masukan sisi : \"))\n",
        "sisi2 = int(input(\"masukan sisi : \"))\n",
        "\n",
        "persegi = sisi1 * sisi2\n",
        "print(\"hasil : \",persegi)\n"
      ]
    },
    {
      "cell_type": "code",
      "source": [
        "#mencari keliling persegi\n",
        "#rumus s x 4\n",
        "print(\"mencari keliling persegi\")\n",
        "\n",
        "sisi = int(input(\"masukan sisi : \"))\n",
        "\n",
        "keliling = sisi * 4\n",
        "print(\"hasil : \",keliling)"
      ],
      "metadata": {
        "colab": {
          "base_uri": "https://localhost:8080/"
        },
        "id": "akxK3kAMnI7J",
        "outputId": "1f703ed2-333d-4ee5-8db9-e90d58f58dfb"
      },
      "execution_count": 7,
      "outputs": [
        {
          "output_type": "stream",
          "name": "stdout",
          "text": [
            "mencari keliling persegi\n",
            "masukan sisi : 10\n",
            "hasil :  40\n"
          ]
        }
      ]
    },
    {
      "cell_type": "markdown",
      "source": [
        "b. PERSEGI PANJANG"
      ],
      "metadata": {
        "id": "0bj7KKZxofH-"
      }
    },
    {
      "cell_type": "code",
      "source": [
        "#mencari luas persegi panjang\n",
        "#rumus p x l\n",
        "\n",
        "print(\"menghitung luas persegi panjang\\n\")\n",
        "\n",
        "p = int(input(\"masukkan panjang : \"))\n",
        "l = int(input(\"masukkan lebar \\t : \"))\n",
        "\n",
        "luas = p * l\n",
        "\n",
        "print(\"hasil : \",luas)\n"
      ],
      "metadata": {
        "colab": {
          "base_uri": "https://localhost:8080/"
        },
        "id": "UFdINJ05of2i",
        "outputId": "2e584ad2-8954-4851-8b29-6710c29fb639"
      },
      "execution_count": 9,
      "outputs": [
        {
          "output_type": "stream",
          "name": "stdout",
          "text": [
            "menghitung luas persegi panjang\n",
            "\n",
            "masukkan panjang : 10\n",
            "masukkan lebar \t : 5\n",
            "hasil :  50\n"
          ]
        }
      ]
    },
    {
      "cell_type": "code",
      "source": [
        "#mencari keliling persegi panjang\n",
        "#rumus 2 x (p + l)\n",
        "\n",
        "print(\"menghitung keliling persegi panjang\\n\")\n",
        "\n",
        "p = int(input(\"masukkan panjang : \"))\n",
        "l = int(input(\"masukkan lebar \\t : \"))\n",
        "\n",
        "keliling = 2 * (p + l)\n",
        "\n",
        "print(\"hasil : \",keliling)"
      ],
      "metadata": {
        "colab": {
          "base_uri": "https://localhost:8080/"
        },
        "id": "Ae1gQlyVq0jM",
        "outputId": "e9b44f10-1c3c-4112-b3b3-5dc7cffb3a4c"
      },
      "execution_count": 10,
      "outputs": [
        {
          "output_type": "stream",
          "name": "stdout",
          "text": [
            "menghitung keliling persegi panjang\n",
            "\n",
            "masukkan panjang : 10\n",
            "masukkan lebar \t : 2\n",
            "hasil :  24\n"
          ]
        }
      ]
    },
    {
      "cell_type": "markdown",
      "source": [
        "c. JAJAR GENJANG"
      ],
      "metadata": {
        "id": "m_BKnt0hr0Ib"
      }
    },
    {
      "cell_type": "code",
      "source": [
        "#mencari luas jajar genjang\n",
        "#rumus a x t\n",
        "\n",
        "print(\"menghitung luas jajar genjang\\n\")\n",
        "\n",
        "a = int(input(\"masukkan nilai alas : \"))\n",
        "t = int(input(\"masukkan nilai tinggi : \"))\n",
        "\n",
        "luas = a * t\n",
        "\n",
        "print(\"hasil : \",luas)"
      ],
      "metadata": {
        "colab": {
          "base_uri": "https://localhost:8080/"
        },
        "id": "2buq6zhgr4ji",
        "outputId": "27129d43-660e-4cc8-df13-eb41abb1218a"
      },
      "execution_count": 11,
      "outputs": [
        {
          "output_type": "stream",
          "name": "stdout",
          "text": [
            "menghitung luas jajar genjang\n",
            "\n",
            "masukkan nilai alas : 10\n",
            "masukkan nilai tinggi : 2\n",
            "hasil :  20\n"
          ]
        }
      ]
    },
    {
      "cell_type": "code",
      "source": [
        "#mencari keliling jajar genjang\n",
        "#rumus 2 x (a + b)\n",
        "\n",
        "print(\"menghitung keliling jajar genjang\\n\")\n",
        "\n",
        "a = int(input(\"masukkan nilai alas : \"))\n",
        "b = int(input(\"masukkan nilai sisi miring : \"))\n",
        "\n",
        "keliling = 2 * (a + b)\n",
        "\n",
        "print(\"hasil : \",keliling)"
      ],
      "metadata": {
        "colab": {
          "base_uri": "https://localhost:8080/"
        },
        "id": "I1zwPE39tvyv",
        "outputId": "1e3cd779-d28b-4b34-e8e0-1d7bca0273db"
      },
      "execution_count": 14,
      "outputs": [
        {
          "output_type": "stream",
          "name": "stdout",
          "text": [
            "menghitung keliling jajar genjang\n",
            "\n",
            "masukkan nilai alas : 10\n",
            "masukkan nilai sisi miring : 20\n",
            "hasil :  60\n"
          ]
        }
      ]
    },
    {
      "cell_type": "markdown",
      "source": [
        "d. Segitiga"
      ],
      "metadata": {
        "id": "cjfs66mKu5WE"
      }
    },
    {
      "cell_type": "code",
      "source": [
        "#mencari luas segitiga\n",
        "#rumus 1/2 x a x t\n",
        "\n",
        "print(\"menghitung luas segitiga\\n\")\n",
        "\n",
        "a = int(input(\"masukan nilai sisi : \"))\n",
        "t = int(input(\"masukkan nilai tinggi : \"))\n",
        "\n",
        "luas = 1/2 * a * t\n",
        "\n",
        "print(\"hasil : \",luas)"
      ],
      "metadata": {
        "colab": {
          "base_uri": "https://localhost:8080/"
        },
        "id": "awCwU1UNu94n",
        "outputId": "7dc44fb0-ea86-430b-dab8-e048b5c3ed63"
      },
      "execution_count": 16,
      "outputs": [
        {
          "output_type": "stream",
          "name": "stdout",
          "text": [
            "mencari luas segitiga\n",
            "\n",
            "masukan nilai sisi : 5\n",
            "masukkan nilai tinggi : 10\n",
            "hasil :  25.0\n"
          ]
        }
      ]
    },
    {
      "cell_type": "code",
      "source": [
        "#mencari keliling segitiga\n",
        "#rumus a + b + c\n",
        "\n",
        "print(\"menghitung keliling segitiga\\n\")\n",
        "\n",
        "a1 = int(input(\"masukan nilai sisi 1 : \"))\n",
        "a2 = int(input(\"masukkan nilai sisi 2 : \"))\n",
        "a3 = int(input(\"masukkan nilai sisi 3 : \"))\n",
        "\n",
        "keliling = a1 + a2 + a3\n",
        "\n",
        "print(\"hasil : \",keliling)"
      ],
      "metadata": {
        "colab": {
          "base_uri": "https://localhost:8080/"
        },
        "id": "ZUs0_6dsvZSa",
        "outputId": "b2085c68-b613-4d9d-d8e3-9fd7ae474257"
      },
      "execution_count": 23,
      "outputs": [
        {
          "output_type": "stream",
          "name": "stdout",
          "text": [
            "menghitung keliling segitiga\n",
            "\n",
            "masukan nilai sisi 1 : 1\n",
            "masukkan nilai sisi 2 : 2\n",
            "masukkan nilai sisi 3 : 3\n",
            "hasil :  6\n"
          ]
        }
      ]
    }
  ]
}